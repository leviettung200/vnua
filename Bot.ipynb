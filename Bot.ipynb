{
 "metadata": {
  "language_info": {
   "codemirror_mode": {
    "name": "ipython",
    "version": 3
   },
   "file_extension": ".py",
   "mimetype": "text/x-python",
   "name": "python",
   "nbconvert_exporter": "python",
   "pygments_lexer": "ipython3",
   "version": "3.9.5"
  },
  "orig_nbformat": 4,
  "kernelspec": {
   "name": "python3",
   "display_name": "Python 3.9.5 64-bit"
  },
  "interpreter": {
   "hash": "f09d38497022f1b88c19ac69dc711f03f9e0a7121287d3bcf48a997cb87335ae"
  }
 },
 "nbformat": 4,
 "nbformat_minor": 2,
 "cells": [
  {
   "source": [
    "### import lib"
   ],
   "cell_type": "markdown",
   "metadata": {}
  },
  {
   "cell_type": "code",
   "execution_count": null,
   "metadata": {},
   "outputs": [],
   "source": [
    "from os import sep\n",
    "from selenium import webdriver\n",
    "from selenium.webdriver.chrome.options import Options\n",
    "from selenium.webdriver.common.keys import Keys\n",
    "from time import sleep\n",
    "from bs4 import BeautifulSoup\n",
    "import pandas as pd\n"
   ]
  },
  {
   "source": [
    "### setup and open chrome\n",
    "### put chrome.exe driver to Programfile forder or link absolute path on Options()"
   ],
   "cell_type": "markdown",
   "metadata": {}
  },
  {
   "source": [
    "chrome_options = Options()\n",
    "chrome_options.add_argument(\"--incognito\")\n",
    "chrome_options.add_argument(\"--window-size=1920x1080\")\n",
    "chrome_options.add_argument('--no-sandbox')\n",
    "chrome_options.add_argument('--disable-dev-shm-usage')\n",
    "driver = webdriver.Chrome()"
   ],
   "cell_type": "code",
   "metadata": {},
   "execution_count": null,
   "outputs": []
  },
  {
   "source": [
    "### get point a student"
   ],
   "cell_type": "markdown",
   "metadata": {}
  },
  {
   "cell_type": "code",
   "execution_count": 83,
   "metadata": {},
   "outputs": [],
   "source": [
    "# get input field and submit\n",
    "def getSV(msv=637871) :\n",
    "    msv_field = driver.find_element_by_id('ctl00_ContentPlaceHolder1_ctl00_txtMaSV')\n",
    "    msv_field.send_keys(msv)\n",
    "    search_btn = driver.find_element_by_xpath('//*[@id=\"ctl00_ContentPlaceHolder1_ctl00_btnOK\"]')\n",
    "    \n",
    "    search_btn.click()\n",
    "    sleep(2)\n",
    "\n",
    "    # view all result\n",
    "    view_all = driver.find_element_by_xpath('//*[@id=\"ctl00_ContentPlaceHolder1_ctl00_lnkChangeview2\"]')\n",
    "    view_all.click()\n",
    "\n",
    "# get list point each stu\n",
    "def getResult() :\n",
    "    all_point = {}\n",
    "    page_source = BeautifulSoup(driver.page_source)\n",
    "    list_row = page_source.find_all('tr', class_='row-diem')\n",
    "    for j, row in enumerate(list_row) :\n",
    "        if j == len(list_row)/2 : break\n",
    "        for i, cell in enumerate(row) :\n",
    "            if i==2 : \n",
    "                subj = cell.text\n",
    "            if i==11 : \n",
    "                point = cell.text\n",
    "        while subj in all_point :\n",
    "            subj = subj + '*'\n",
    "        all_point[subj] = point  \n",
    "    sv = driver.find_element_by_xpath('//*[@id=\"ctl00_ContentPlaceHolder1_ctl00_ucThongTinSV_lblMaSinhVien\"]').text\n",
    "    all_point['MSV'] = sv\n",
    "    return all_point\n"
   ]
  },
  {
   "cell_type": "code",
   "execution_count": 89,
   "metadata": {
    "tags": []
   },
   "outputs": [],
   "source": [
    "inputFile = pd.read_csv('data.csv', header=None,index_col=False).transpose()\n",
    "final_Result = []\n",
    "for msv in inputFile.iloc[0]:\n",
    "    url = \"http://daotao.vnua.edu.vn/default.aspx?page=nhapmasv&flag=XemDiemThi\"\n",
    "    driver.get(url)\n",
    "    sleep(2)\n",
    "    getSV(msv)\n",
    "    sleep(2)\n",
    "    final_Result.append(getResult())\n",
    "\n",
    "# lean nan value and move col MSV to first\n",
    "outputFile = pd.DataFrame(final_Result)\n",
    "outputFile = outputFile.fillna('')\n",
    "first_column = outputFile.pop('MSV')\n",
    "outputFile.insert(0, 'MSV', first_column)\n",
    "\n",
    "outputFile.to_csv('output.csv', index=False)\n"
   ]
  },
  {
   "cell_type": "code",
   "execution_count": 87,
   "metadata": {},
   "outputs": [
    {
     "output_type": "execute_result",
     "data": {
      "text/plain": [
       "      MSV SN00010 TH01001 TH01006 QS01002 TH01024 TH01029 GT01016 ML01009  \\\n",
       "0  637871             5.7     4.0     5.6     6.6     4.0     5.5     5.8   \n",
       "1  637822             5.1     7.9     6.6     5.5     6.1     5.3     6.5   \n",
       "2  637634             5.3     5.5     6.1     8.5     7.6     4.2     6.1   \n",
       "\n",
       "  QS01001  ... GT01019 KN01004 TH03201 SN00011* KN01005 MT02011 KT03024  \\\n",
       "0     5.9  ...                                                            \n",
       "1     6.1  ...     4.0     7.7     7.9      5.7     8.8                   \n",
       "2     6.7  ...                     6.5                                    \n",
       "\n",
       "  GT01020 KN01006 TH03207  \n",
       "0                          \n",
       "1                          \n",
       "2     5.5     8.5          \n",
       "\n",
       "[3 rows x 65 columns]"
      ],
      "text/html": "<div>\n<style scoped>\n    .dataframe tbody tr th:only-of-type {\n        vertical-align: middle;\n    }\n\n    .dataframe tbody tr th {\n        vertical-align: top;\n    }\n\n    .dataframe thead th {\n        text-align: right;\n    }\n</style>\n<table border=\"1\" class=\"dataframe\">\n  <thead>\n    <tr style=\"text-align: right;\">\n      <th></th>\n      <th>MSV</th>\n      <th>SN00010</th>\n      <th>TH01001</th>\n      <th>TH01006</th>\n      <th>QS01002</th>\n      <th>TH01024</th>\n      <th>TH01029</th>\n      <th>GT01016</th>\n      <th>ML01009</th>\n      <th>QS01001</th>\n      <th>...</th>\n      <th>GT01019</th>\n      <th>KN01004</th>\n      <th>TH03201</th>\n      <th>SN00011*</th>\n      <th>KN01005</th>\n      <th>MT02011</th>\n      <th>KT03024</th>\n      <th>GT01020</th>\n      <th>KN01006</th>\n      <th>TH03207</th>\n    </tr>\n  </thead>\n  <tbody>\n    <tr>\n      <th>0</th>\n      <td>637871</td>\n      <td></td>\n      <td>5.7</td>\n      <td>4.0</td>\n      <td>5.6</td>\n      <td>6.6</td>\n      <td>4.0</td>\n      <td>5.5</td>\n      <td>5.8</td>\n      <td>5.9</td>\n      <td>...</td>\n      <td></td>\n      <td></td>\n      <td></td>\n      <td></td>\n      <td></td>\n      <td></td>\n      <td></td>\n      <td></td>\n      <td></td>\n      <td></td>\n    </tr>\n    <tr>\n      <th>1</th>\n      <td>637822</td>\n      <td></td>\n      <td>5.1</td>\n      <td>7.9</td>\n      <td>6.6</td>\n      <td>5.5</td>\n      <td>6.1</td>\n      <td>5.3</td>\n      <td>6.5</td>\n      <td>6.1</td>\n      <td>...</td>\n      <td>4.0</td>\n      <td>7.7</td>\n      <td>7.9</td>\n      <td>5.7</td>\n      <td>8.8</td>\n      <td></td>\n      <td></td>\n      <td></td>\n      <td></td>\n      <td></td>\n    </tr>\n    <tr>\n      <th>2</th>\n      <td>637634</td>\n      <td></td>\n      <td>5.3</td>\n      <td>5.5</td>\n      <td>6.1</td>\n      <td>8.5</td>\n      <td>7.6</td>\n      <td>4.2</td>\n      <td>6.1</td>\n      <td>6.7</td>\n      <td>...</td>\n      <td></td>\n      <td></td>\n      <td>6.5</td>\n      <td></td>\n      <td></td>\n      <td></td>\n      <td></td>\n      <td>5.5</td>\n      <td>8.5</td>\n      <td></td>\n    </tr>\n  </tbody>\n</table>\n<p>3 rows × 65 columns</p>\n</div>"
     },
     "metadata": {},
     "execution_count": 87
    }
   ],
   "source": [
    "\n",
    "outputFile"
   ]
  },
  {
   "cell_type": "code",
   "execution_count": null,
   "metadata": {},
   "outputs": [],
   "source": []
  }
 ]
}