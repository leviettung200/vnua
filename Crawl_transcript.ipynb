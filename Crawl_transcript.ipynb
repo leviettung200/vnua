{
  "nbformat": 4,
  "nbformat_minor": 0,
  "metadata": {
    "colab": {
      "name": "Crawl transcript.ipynb",
      "provenance": [],
      "collapsed_sections": []
    },
    "interpreter": {
      "hash": "f09d38497022f1b88c19ac69dc711f03f9e0a7121287d3bcf48a997cb87335ae"
    },
    "kernelspec": {
      "display_name": "Python 3.9.5 64-bit",
      "name": "python3"
    },
    "language_info": {
      "codemirror_mode": {
        "name": "ipython",
        "version": 3
      },
      "file_extension": ".py",
      "mimetype": "text/x-python",
      "name": "python",
      "nbconvert_exporter": "python",
      "pygments_lexer": "ipython3",
      "version": "3.9.5"
    }
  },
  "cells": [
    {
      "cell_type": "markdown",
      "metadata": {
        "id": "X2Tqnxxn3Xm1"
      },
      "source": [
        "### Import lib"
      ]
    },
    {
      "cell_type": "code",
      "metadata": {
        "id": "2u5kihTC3Xm4"
      },
      "source": [
        "# With OS\n",
        "from os import sep\n",
        "from selenium import webdriver\n",
        "from selenium.webdriver.chrome.options import Options\n",
        "from selenium.webdriver.common.keys import Keys\n",
        "from time import sleep\n",
        "from bs4 import BeautifulSoup\n",
        "import pandas as pd\n"
      ],
      "execution_count": null,
      "outputs": []
    },
    {
      "cell_type": "code",
      "metadata": {
        "id": "0rSWixjfoYnm"
      },
      "source": [
        "# With colab\n",
        "!pip install selenium\n",
        "!apt-get update # to update ubuntu to correctly run apt install\n",
        "!apt install chromium-chromedriver\n",
        "!cp /usr/lib/chromium-browser/chromedriver /usr/bin\n",
        "import sys\n",
        "sys.path.insert(0,'/usr/lib/chromium-browser/chromedriver')\n",
        "\n",
        "from selenium import webdriver\n",
        "from selenium.common.exceptions import TimeoutException, NoSuchElementException, UnexpectedAlertPresentException\n",
        "from time import sleep\n",
        "from bs4 import BeautifulSoup\n",
        "import pandas as pd\n"
      ],
      "execution_count": null,
      "outputs": []
    },
    {
      "cell_type": "markdown",
      "metadata": {
        "id": "La4Pi18-3Xm5"
      },
      "source": [
        "### Setup and open chrome\n"
      ]
    },
    {
      "cell_type": "code",
      "metadata": {
        "id": "o8KZBTvVtqyQ"
      },
      "source": [
        "chrome_options = webdriver.ChromeOptions()\n",
        "chrome_options.add_argument('--headless')\n",
        "chrome_options.add_argument('--no-sandbox')\n",
        "chrome_options.add_argument('--disable-dev-shm-usage')\n",
        "driver = webdriver.Chrome('chromedriver',chrome_options=chrome_options)\n"
      ],
      "execution_count": null,
      "outputs": []
    },
    {
      "cell_type": "markdown",
      "metadata": {
        "id": "gwm1Fs3z3Xm6"
      },
      "source": [
        "### Get transcript student"
      ]
    },
    {
      "cell_type": "code",
      "metadata": {
        "id": "vGPPfuIO3Xm6"
      },
      "source": [
        "# get input field and submit\n",
        "def getSV(msv) :\n",
        "    msv_field = driver.find_element_by_id('ctl00_ContentPlaceHolder1_ctl00_txtMaSV')\n",
        "    msv_field.send_keys(msv)\n",
        "    \n",
        "    search_btn = driver.find_element_by_xpath('//*[@id=\"ctl00_ContentPlaceHolder1_ctl00_btnOK\"]')\n",
        "    search_btn.click()\n",
        "   \n",
        "    # view all result\n",
        "    # view_all = driver.find_element_by_xpath('//*[@id=\"ctl00_ContentPlaceHolder1_ctl00_lnkChangeview2\"]')\n",
        "    # view_all.click()\n",
        "\n",
        "# get transcript\n",
        "def getResult(msv) :\n",
        "    page_source = BeautifulSoup(driver.page_source, \"lxml\")\n",
        "    table_src = page_source.find_all(\"table\", class_=\"view-table\")[0]\n",
        "\n",
        "    table_rows = table_src.find_all(\"tr\")\n",
        "    del table_rows[0]\n",
        "\n",
        "    for tr in table_rows:\n",
        "        district_demo = tr.find_all(\"td\")\n",
        "        row_demo = [tr.text for tr in district_demo]\n",
        "        row_demo.append(msv)\n",
        "        listTranscript.append(row_demo) \n",
        "\n",
        "# get profile\n",
        "def getInfo() :\n",
        "    page_source = BeautifulSoup(driver.page_source, \"lxml\")\n",
        "    table_src = page_source.find_all(\"table\")[2]\n",
        "\n",
        "    table_rows = table_src.find_all(\"tr\")\n",
        "\n",
        "    for tr in table_rows:\n",
        "        district_demo = tr.find_all(\"td\")\n",
        "        row_demo = [tr.text for tr in district_demo]\n",
        "        listProfile.append(row_demo) \n",
        "    \n",
        "\n",
        "def getSemesterResult(seme = '20201') :\n",
        "    semester_field = driver.find_element_by_id('ctl00_ContentPlaceHolder1_ctl00_txtChonHK')\n",
        "    semester_field.send_keys(seme)\n",
        "\n",
        "    semester_btn = driver.find_element_by_id('ctl00_ContentPlaceHolder1_ctl00_btnChonHK')\n",
        "    semester_btn.click()\n",
        "\n",
        "    all_info = {}\n",
        "    page_source = BeautifulSoup(driver.page_source)\n",
        "\n",
        "    # personal info\n",
        "    code = driver.find_element_by_xpath('//*[@id=\"ctl00_ContentPlaceHolder1_ctl00_ucThongTinSV_lblMaSinhVien\"]').text\n",
        "    all_info['code'] = code\n",
        "\n",
        "    # point\n",
        "    list_row = page_source.find_all('tr', class_='row-diem')\n",
        "    for j, row in enumerate(list_row) :\n",
        "        if j == len(list_row)/2 : break\n",
        "        for i, cell in enumerate(row) :\n",
        "            if i==2 : \n",
        "                subj = cell.text\n",
        "            if i==11 : \n",
        "                point = cell.text\n",
        "        while subj in all_info :\n",
        "            subj = subj + '*'\n",
        "        all_info[subj] = point  \n",
        "\n",
        "    list_final = page_source.find_all('tr', class_='row-diemTK')\n",
        "    for row in list_final :\n",
        "        for n, val in enumerate(row.find('td')) :\n",
        "            if n : point = val.text\n",
        "            else : subj = val.text\n",
        "        all_info[subj] = point  \n",
        "\n",
        "    return all_info\n"
      ],
      "execution_count": null,
      "outputs": []
    },
    {
      "cell_type": "markdown",
      "metadata": {
        "id": "guCFgvpnlSId"
      },
      "source": [
        "###Setup input"
      ]
    },
    {
      "cell_type": "code",
      "metadata": {
        "id": "eNs3gmjD3Xm7"
      },
      "source": [
        "# input file\n",
        "inputFile = pd.read_excel('/content/student.xlsx')\n",
        "data =inputFile['code'].tolist()\n",
        "data.sort()\n",
        "# del data[:20013]\n",
        "\n",
        "headings = ['STT', 'Subject', 'Subject Name', 'TC', '% KT', '% Thi', 'Điểm Chuyên Cần', 'Điểm Quá Trình', 'Thi L1', 'TK1(10)', 'Point', 'TK1(CH)', 'TK(CH)','Code']\n",
        "listTranscript = []\n",
        "\n",
        "headProfile = [\"Name\", \"Value\"]\n",
        "listProfile =[]\n",
        "for msv in data:\n",
        "    url = \"http://daotao.vnua.edu.vn/default.aspx?page=nhapmasv&flag=XemDiemThi\"\n",
        "    driver.get(url)\n",
        "    # sleep(1)\n",
        "    getSV(msv)\n",
        "    # sleep(1)\n",
        "    # pass alert box\n",
        "    try :\n",
        "        getInfo()\n",
        "        # getResult(msv)\n",
        "    except Exception as e:\n",
        "        if  \"Không tìm thấy mã vừa nhập\" not in str(e) :\n",
        "            print(msv,e)\n",
        "        continue\n",
        "# lean NaN value\n",
        "outputTranscript = pd.DataFrame(data=listTranscript,columns=headings)\n",
        "outputTranscript = outputTranscript.fillna('')\n",
        "\n",
        "outputTranscript.to_csv('transcript.csv', index=False)\n",
        "\n",
        "outputProfile = pd.DataFrame(data=listProfile,columns=headProfile)\n",
        "outputTranscript = outputTranscript.fillna('')\n",
        "\n",
        "outputProfile.to_csv('profile.csv', index=False)\n"
      ],
      "execution_count": null,
      "outputs": []
    },
    {
      "cell_type": "code",
      "metadata": {
        "id": "wxcZBwG33Xm7"
      },
      "source": [
        "outputTranscript = pd.DataFrame(data=listTranscript,columns=headings)\n",
        "outputTranscript = outputTranscript.fillna('')\n",
        "\n",
        "outputTranscript.to_csv('transcript.csv', index=False)\n",
        "outputTranscript\n",
        "\n",
        "outputProfile = pd.DataFrame(data=listProfile,columns=headProfile)\n",
        "outputProfile = outputProfile.fillna('')\n",
        "\n",
        "outputProfile.to_csv('profile.csv', index=False)\n",
        "outputProfile"
      ],
      "execution_count": null,
      "outputs": []
    },
    {
      "cell_type": "code",
      "metadata": {
        "id": "8Iz4HpDzbKg0"
      },
      "source": [
        "data = pd.read_excel('/content/student.xlsx')\n",
        "ds =data['code'].tolist()\n",
        "\n",
        "ds.sort()\n",
        "del ds[:20013]\n",
        "print(ds)\n"
      ],
      "execution_count": null,
      "outputs": []
    }
  ]
}